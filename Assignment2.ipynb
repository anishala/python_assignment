{
  "nbformat": 4,
  "nbformat_minor": 0,
  "metadata": {
    "colab": {
      "provenance": [],
      "authorship_tag": "ABX9TyMg8RvgFI8KxOaRQtN+rGUX"
    },
    "kernelspec": {
      "name": "python3",
      "display_name": "Python 3"
    },
    "language_info": {
      "name": "python"
    }
  },
  "cells": [
    {
      "cell_type": "markdown",
      "source": [
        "Write a Python program to accept a string value from the user and display\n",
        "the count of each character in that string."
      ],
      "metadata": {
        "id": "-usHOKm8D6Eb"
      }
    },
    {
      "cell_type": "code",
      "source": [
        "n=input('enter a string:').lower()\n",
        "s={}\n",
        "for i in n:\n",
        "  if i in s:\n",
        "    s[i]+=1\n",
        "  else:\n",
        "    s[i]=1\n",
        "print(s)"
      ],
      "metadata": {
        "colab": {
          "base_uri": "https://localhost:8080/"
        },
        "id": "_izvLXMMEGzE",
        "outputId": "31cb8c87-4d17-4083-f393-0118128c758e"
      },
      "execution_count": 2,
      "outputs": [
        {
          "output_type": "stream",
          "name": "stdout",
          "text": [
            "enter a string:assembly\n",
            "{'a': 1, 's': 2, 'e': 1, 'm': 1, 'b': 1, 'l': 1, 'y': 1}\n"
          ]
        }
      ]
    },
    {
      "cell_type": "markdown",
      "source": [
        " Write a Python function to find the maximum of three numbers"
      ],
      "metadata": {
        "id": "ZyLKM2nRFOlr"
      }
    },
    {
      "cell_type": "code",
      "source": [
        "num1=float(input('enter the first number'))\n",
        "num2=float(input('enter the second number'))\n",
        "num3=float(input('enter the third number'))\n",
        "\n",
        "if (num1>num2 and num1>num3):\n",
        "  print(num1,\"is greater\")\n",
        "elif(num2>num1 and num2>num3):\n",
        "    print(num2,'is greater')\n",
        "else:\n",
        "  print(num3,'is greater')"
      ],
      "metadata": {
        "colab": {
          "base_uri": "https://localhost:8080/"
        },
        "id": "PTvO8bBDE3h6",
        "outputId": "8d636d0b-731d-4c3f-99dd-9e6de289e335"
      },
      "execution_count": 3,
      "outputs": [
        {
          "output_type": "stream",
          "name": "stdout",
          "text": [
            "enter the first number34\n",
            "enter the second number12\n",
            "enter the third number7\n",
            "34.0 is greater\n"
          ]
        }
      ]
    },
    {
      "cell_type": "markdown",
      "source": [
        "Write a Python function called exponent(base,exp) that returns an\n",
        "integer value of base raises to the power of exp."
      ],
      "metadata": {
        "id": "PWnZ5sjZFyDX"
      }
    },
    {
      "cell_type": "code",
      "source": [
        "def exponent(base,exp):\n",
        "  s=base**exp\n",
        "  print(s)\n"
      ],
      "metadata": {
        "id": "XYYbQ0QjFkr1"
      },
      "execution_count": 13,
      "outputs": []
    },
    {
      "cell_type": "code",
      "source": [
        "base=int(input('enter the base'))\n",
        "exp=int(input('enter the exponent'))\n",
        "exponent(base,exp)"
      ],
      "metadata": {
        "colab": {
          "base_uri": "https://localhost:8080/"
        },
        "id": "d3-dTLzNGIEB",
        "outputId": "8a362712-3114-4f60-f9a3-a1440936f0fb"
      },
      "execution_count": 14,
      "outputs": [
        {
          "output_type": "stream",
          "name": "stdout",
          "text": [
            "enter the base2\n",
            "enter the exponent3\n",
            "8\n"
          ]
        }
      ]
    },
    {
      "cell_type": "markdown",
      "source": [
        "Write a Python function that takes a positive integer and returns the sum\n",
        "of the cube of all the positive integers smaller than the specified number."
      ],
      "metadata": {
        "id": "BmTGUwowIAvL"
      }
    },
    {
      "cell_type": "code",
      "source": [
        "def postive_number(num):\n",
        "  cubes=0\n",
        "  for i in range (1,num):\n",
        "    cubes=+ i**3\n",
        "  print(cubes)\n",
        "\n",
        "\n"
      ],
      "metadata": {
        "id": "9YCiVweaGfHH"
      },
      "execution_count": 100,
      "outputs": []
    },
    {
      "cell_type": "code",
      "source": [
        "postive_number(4)"
      ],
      "metadata": {
        "colab": {
          "base_uri": "https://localhost:8080/"
        },
        "id": "iOlUqw-QU2Nt",
        "outputId": "816f9267-16b8-4cad-dbb7-a180445cbff3"
      },
      "execution_count": 101,
      "outputs": [
        {
          "output_type": "stream",
          "name": "stdout",
          "text": [
            "27\n"
          ]
        }
      ]
    },
    {
      "cell_type": "markdown",
      "source": [
        "Write a Python program which iterates from 1 to 10. For multiples of 2,\n",
        "print “Fizz” instead of the number and for the multiples of 5, print “Buzz”.\n",
        "For numbers which are multiples of both 2 and 5, print “FizzBuzz”."
      ],
      "metadata": {
        "id": "9q8vqz04JIZB"
      }
    },
    {
      "cell_type": "code",
      "source": [
        "n=11\n",
        "for i in range (1,n):\n",
        "  if i%2==0:\n",
        "    print('Fizz')\n",
        "  elif (i%5==0):\n",
        "    print('Buzz')\n",
        "  elif(i%2==0 and i%5==0):\n",
        "    print('fizzBuzz')\n",
        "  else:\n",
        "    print(i)"
      ],
      "metadata": {
        "colab": {
          "base_uri": "https://localhost:8080/"
        },
        "id": "6kNOgNeOJHCo",
        "outputId": "f6544828-9e90-48a0-88f4-b17007af1a91"
      },
      "execution_count": 60,
      "outputs": [
        {
          "output_type": "stream",
          "name": "stdout",
          "text": [
            "1\n",
            "Fizz\n",
            "3\n",
            "Fizz\n",
            "Buzz\n",
            "Fizz\n",
            "7\n",
            "Fizz\n",
            "9\n",
            "Fizz\n"
          ]
        }
      ]
    },
    {
      "cell_type": "markdown",
      "source": [
        "Write a Python program to find the most frequent item in a list of\n",
        "numbers."
      ],
      "metadata": {
        "id": "QXxOdH0QM1kG"
      }
    },
    {
      "cell_type": "code",
      "source": [
        "n=[2,3,4,2,5,2]\n",
        "max=0\n",
        "res=n[0]\n",
        "for i in n:\n",
        "  freq=n.count(i)\n",
        "  if freq>max:\n",
        "    max=freq\n",
        "    res=i\n",
        "\n",
        "print(res)"
      ],
      "metadata": {
        "colab": {
          "base_uri": "https://localhost:8080/"
        },
        "id": "iqcoRWLWM1S6",
        "outputId": "7235525d-9e33-47f2-dff6-5660ec000760"
      },
      "execution_count": 51,
      "outputs": [
        {
          "output_type": "stream",
          "name": "stdout",
          "text": [
            "2\n"
          ]
        }
      ]
    },
    {
      "cell_type": "markdown",
      "source": [
        "Write a Python program to find the sum of squares of the numbers in a\n",
        "list"
      ],
      "metadata": {
        "id": "bDwS_yeCOGEs"
      }
    },
    {
      "cell_type": "code",
      "source": [
        "n=[2,1,3,1]\n",
        "res=0\n",
        "for i in n:\n",
        "  res= res + i**2\n",
        "\n",
        "print(res)"
      ],
      "metadata": {
        "colab": {
          "base_uri": "https://localhost:8080/"
        },
        "id": "mJFQkJzZJxPH",
        "outputId": "23901676-19b4-4596-9ab8-d67534004eb3"
      },
      "execution_count": 59,
      "outputs": [
        {
          "output_type": "stream",
          "name": "stdout",
          "text": [
            "15\n"
          ]
        }
      ]
    },
    {
      "cell_type": "markdown",
      "source": [
        "Write a Python program using for loop that will iterate from 1 to 15. For\n",
        "each iteration, check if the current number is odd or even, and display the\n",
        "message to the screen as odd or even. S"
      ],
      "metadata": {
        "id": "APJHeIiRPkME"
      }
    },
    {
      "cell_type": "code",
      "source": [
        "n=15\n",
        "for i in range (1,n+1):\n",
        "  if i%2==0:\n",
        "    print(i,'-even')\n",
        "  elif (i%3==0):\n",
        "    print(i,'-odd')\n",
        "  else:\n",
        "    print(i)\n",
        "\n"
      ],
      "metadata": {
        "colab": {
          "base_uri": "https://localhost:8080/"
        },
        "id": "iMxdAKMmO-Ad",
        "outputId": "c8487676-4ee4-4096-89bf-4c65f246fdaf"
      },
      "execution_count": 65,
      "outputs": [
        {
          "output_type": "stream",
          "name": "stdout",
          "text": [
            "1\n",
            "2 -even\n",
            "3 -odd\n",
            "4 -even\n",
            "5\n",
            "6 -even\n",
            "7\n",
            "8 -even\n",
            "9 -odd\n",
            "10 -even\n",
            "11\n",
            "12 -even\n",
            "13\n",
            "14 -even\n",
            "15 -odd\n"
          ]
        }
      ]
    },
    {
      "cell_type": "markdown",
      "source": [
        "Write a Python program to convert temperatures to and from Celsius\n",
        "Fahrenheit. [Formula: c/5=f-32/9 where c=temperature in Celsius and f=\n",
        "temperature in Fahrenheit.]"
      ],
      "metadata": {
        "id": "RQUGqJNhQhwR"
      }
    },
    {
      "cell_type": "code",
      "source": [
        "print(\"Options are \\n\")\n",
        "print(\"1.Convert temperatures from Celsius to Fahrenheit \\n\")\n",
        "print(\"2.Convert temperatures from Fahrenheit to Celsius \\n\")\n",
        "opt=int(input(\"Choose any Option(1 or 2) : \"))\n",
        "if opt == 1:\n",
        "    print(\"Convert temperatures from Celsius to Fahrenheit \\n\")\n",
        "    cel = float(input(\"Enter Temperature in Celsius: \"))\n",
        "    fahr = (cel*9/5)+32\n",
        "    print(\"Temperature in Fahrenheit =\",fahr)\n",
        "elif opt == 2:\n",
        "    print(\"Convert temperatures from Fahrenheit to Celsius \\n\")\n",
        "    fahr = float(input(\"Enter Temperature in Fahrenheit: \"))\n",
        "    cel=(fahr-32)*5/9;\n",
        "    print(\"Temperature in Celsius =\",cel)\n",
        "else:\n",
        "    print(\"Invalid Option\")\n",
        "\n"
      ],
      "metadata": {
        "colab": {
          "base_uri": "https://localhost:8080/"
        },
        "id": "YIy09HxeQMb0",
        "outputId": "e1dd84fe-63d9-4f7a-d290-57d14e18f992"
      },
      "execution_count": 67,
      "outputs": [
        {
          "output_type": "stream",
          "name": "stdout",
          "text": [
            "Options are \n",
            "\n",
            "1.Convert temperatures from Celsius to Fahrenheit \n",
            "\n",
            "2.Convert temperatures from Fahrenheit to Celsius \n",
            "\n",
            "Choose any Option(1 or 2) : 2\n",
            "Convert temperatures from Fahrenheit to Celsius \n",
            "\n",
            "Enter Temperature in Fahrenheit: 41\n",
            "Temperature in Celsius = 5.0\n"
          ]
        }
      ]
    },
    {
      "cell_type": "markdown",
      "source": [
        "Write a Python function to calculate the factorial of a number (a\n",
        "nonnegative integer). The function accepts the number as an argument."
      ],
      "metadata": {
        "id": "b3TYd6HCSzZZ"
      }
    },
    {
      "cell_type": "code",
      "source": [
        "def factorial(num):\n",
        "  fact=1\n",
        "  for i in range(1,num+1):\n",
        "    if num<0:\n",
        "      print('not valid')\n",
        "    elif(num>1):\n",
        "      fact=fact*i\n",
        "  print(fact)\n"
      ],
      "metadata": {
        "id": "OueptGMrTAfq"
      },
      "execution_count": 79,
      "outputs": []
    },
    {
      "cell_type": "code",
      "source": [
        "factorial(3)"
      ],
      "metadata": {
        "colab": {
          "base_uri": "https://localhost:8080/"
        },
        "id": "BbnL3o5HTqXs",
        "outputId": "1fb17ba7-7892-411a-9bc5-57d7eb74dcf0"
      },
      "execution_count": 81,
      "outputs": [
        {
          "output_type": "stream",
          "name": "stdout",
          "text": [
            "6\n"
          ]
        }
      ]
    },
    {
      "cell_type": "code",
      "source": [],
      "metadata": {
        "id": "F8zXXtWHTsBG"
      },
      "execution_count": null,
      "outputs": []
    }
  ]
}