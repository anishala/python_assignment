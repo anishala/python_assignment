{
  "nbformat": 4,
  "nbformat_minor": 0,
  "metadata": {
    "colab": {
      "provenance": [],
      "authorship_tag": "ABX9TyNKuR5wiTiaAIn5KJmcmveX"
    },
    "kernelspec": {
      "name": "python3",
      "display_name": "Python 3"
    },
    "language_info": {
      "name": "python"
    }
  },
  "cells": [
    {
      "cell_type": "code",
      "source": [
        "import numpy as np"
      ],
      "metadata": {
        "id": "B7IJZhuojn1I"
      },
      "execution_count": 1,
      "outputs": []
    },
    {
      "cell_type": "markdown",
      "source": [
        "Write a Python program which accepts the radius of a circle from the user\n",
        "and compute the area.\n"
      ],
      "metadata": {
        "id": "nWklgG2ojnK7"
      }
    },
    {
      "cell_type": "code",
      "execution_count": 5,
      "metadata": {
        "id": "oBQei_Nk7Yfh",
        "colab": {
          "base_uri": "https://localhost:8080/"
        },
        "outputId": "7b9d48a7-54d2-4758-e3df-7f78b2083117"
      },
      "outputs": [
        {
          "output_type": "stream",
          "name": "stdout",
          "text": [
            "enter the radius of a circle3\n",
            "Area of Circle is : 28.26\n"
          ]
        }
      ],
      "source": [
        "radius=float(input('enter the radius of a circle'))\n",
        "area=3.14*radius**2\n",
        "print('Area of Circle is :',area)"
      ]
    },
    {
      "cell_type": "markdown",
      "source": [
        "Write a Python Program to accept the details of a student like name, roll\n",
        "number and mark and display it.\n"
      ],
      "metadata": {
        "id": "PBAZxBIRk6dN"
      }
    },
    {
      "cell_type": "code",
      "source": [
        "name=input('enter the name')\n",
        "rollnum=int(input('enter the roll number'))\n",
        "mark=int(input('enter the mark'))\n",
        "print('Name:',name,'\\n','Roll no:',rollnum,'\\n','mark:',mark)"
      ],
      "metadata": {
        "colab": {
          "base_uri": "https://localhost:8080/"
        },
        "id": "DsmGzUmakbCc",
        "outputId": "b7396c09-76b5-4fdc-e871-7c97190a8654"
      },
      "execution_count": 8,
      "outputs": [
        {
          "output_type": "stream",
          "name": "stdout",
          "text": [
            "enter the nameAnisha\n",
            "enter the roll number21\n",
            "enter the mark78\n",
            "Name: Anisha \n",
            " Roll no: 21 \n",
            " mark: 78\n"
          ]
        }
      ]
    },
    {
      "cell_type": "markdown",
      "source": [
        "Write a Python program to get the largest number from a list."
      ],
      "metadata": {
        "id": "j7swN8HcmLEr"
      }
    },
    {
      "cell_type": "code",
      "source": [
        "number=[12,3,47,10]\n",
        "m=max(number)\n",
        "print(m,'is the largest number')"
      ],
      "metadata": {
        "colab": {
          "base_uri": "https://localhost:8080/"
        },
        "id": "vqAtvwsNlmnm",
        "outputId": "b631323a-3069-4916-a786-e84ea0ebe358"
      },
      "execution_count": 12,
      "outputs": [
        {
          "output_type": "stream",
          "name": "stdout",
          "text": [
            "47 is the largest number\n"
          ]
        }
      ]
    },
    {
      "cell_type": "code",
      "source": [
        "1\n",
        "# number of elements\n",
        "n = int(input(\"Enter number of elements : \"))\n",
        "\n",
        "# Below line read inputs from user using map() function\n",
        "a = list(map(int,\n",
        "    input(\"\\nEnter the numbers : \").strip().split()))[:n]\n",
        "\n",
        "print(\"\\nList is - \", a)\n",
        "\n",
        "\n",
        "m=max(a)\n",
        "print(m,'is the largest number')"
      ],
      "metadata": {
        "colab": {
          "base_uri": "https://localhost:8080/"
        },
        "id": "xvWz7-_7ndoF",
        "outputId": "1178237a-8770-48a8-e1af-94eeacc0f2a8"
      },
      "execution_count": 18,
      "outputs": [
        {
          "output_type": "stream",
          "name": "stdout",
          "text": [
            "Enter number of elements : 4\n",
            "\n",
            "Enter the numbers : 12 13 14 15 16\n",
            "\n",
            "List is -  [12, 13, 14, 15]\n",
            "15 is the largest number\n"
          ]
        }
      ]
    },
    {
      "cell_type": "markdown",
      "source": [
        "Given a range of first 10 numbers, write a Python program to iterate from\n",
        "start number to the end number and print the sum of the current number\n",
        "and previous number."
      ],
      "metadata": {
        "id": "fXW6r59Ho899"
      }
    },
    {
      "cell_type": "code",
      "source": [
        "n=[1,2,3,4,5,6,7,8,9,10]\n",
        "previous_num=0\n",
        "for i in range(0,len(n)):\n",
        "  sum=i + previous_num\n",
        "  print('current number:',i)\n",
        "  print('previous number:',previous_num)\n",
        "  print('sum',sum)\n",
        "  previous_num=i"
      ],
      "metadata": {
        "colab": {
          "base_uri": "https://localhost:8080/"
        },
        "id": "LoRB2ucNm6UB",
        "outputId": "80547efc-658f-4ecf-a7ec-8483391be2a9"
      },
      "execution_count": 30,
      "outputs": [
        {
          "output_type": "stream",
          "name": "stdout",
          "text": [
            "current number: 0\n",
            "previous number: 0\n",
            "sum 0\n",
            "current number: 1\n",
            "previous number: 0\n",
            "sum 1\n",
            "current number: 2\n",
            "previous number: 1\n",
            "sum 3\n",
            "current number: 3\n",
            "previous number: 2\n",
            "sum 5\n",
            "current number: 4\n",
            "previous number: 3\n",
            "sum 7\n",
            "current number: 5\n",
            "previous number: 4\n",
            "sum 9\n",
            "current number: 6\n",
            "previous number: 5\n",
            "sum 11\n",
            "current number: 7\n",
            "previous number: 6\n",
            "sum 13\n",
            "current number: 8\n",
            "previous number: 7\n",
            "sum 15\n",
            "current number: 9\n",
            "previous number: 8\n",
            "sum 17\n"
          ]
        }
      ]
    },
    {
      "cell_type": "markdown",
      "source": [
        "Write a Python program to print only those numbers which are divisible\n",
        "of 5."
      ],
      "metadata": {
        "id": "_MIzHCQQspCj"
      }
    },
    {
      "cell_type": "code",
      "source": [
        "n=[10,20,33,46,55]\n",
        "for i in n:\n",
        "  if i%5==0:\n",
        "    print(i)\n",
        "\n"
      ],
      "metadata": {
        "colab": {
          "base_uri": "https://localhost:8080/"
        },
        "id": "uAyBa4zFskJh",
        "outputId": "25d9dac2-aa1f-4bbd-8105-8f4e934df95e"
      },
      "execution_count": 47,
      "outputs": [
        {
          "output_type": "stream",
          "name": "stdout",
          "text": [
            "10\n",
            "20\n",
            "55\n"
          ]
        }
      ]
    },
    {
      "cell_type": "markdown",
      "source": [
        "Write a Python program to check whether a number is prime or not.\n"
      ],
      "metadata": {
        "id": "F3rv6UYXvZi5"
      }
    },
    {
      "cell_type": "code",
      "source": [
        "num=int(input('enter a number'))\n",
        "if num>1:\n",
        "  for i in range(2,num):\n",
        "    if (num%i) == 0:\n",
        "      print(num,\"is not a prime number\")\n",
        "      break\n",
        "  else:\n",
        "      print(num,'number is a prime number')\n",
        "else:\n",
        "  print(num,\"not a prime number\")"
      ],
      "metadata": {
        "colab": {
          "base_uri": "https://localhost:8080/"
        },
        "id": "w5N73qigsSzm",
        "outputId": "0f17856f-e8c0-4104-8510-23b7053ea531"
      },
      "execution_count": 65,
      "outputs": [
        {
          "output_type": "stream",
          "name": "stdout",
          "text": [
            "enter a number3\n",
            "3 number is a prime number\n"
          ]
        }
      ]
    },
    {
      "cell_type": "markdown",
      "source": [
        "Write a Python program to reverse a list using for loop."
      ],
      "metadata": {
        "id": "xYnjHrWj0_jF"
      }
    },
    {
      "cell_type": "code",
      "source": [
        "orginal_list=[10,40,30,70]\n",
        "reverse_list=[]\n",
        "for i in range(1,len(orginal_list)+1):\n",
        "  reverse_list.append(orginal_list[-i])\n",
        "\n",
        "print(reverse_list)\n"
      ],
      "metadata": {
        "colab": {
          "base_uri": "https://localhost:8080/"
        },
        "id": "bpfjhFrA1CPc",
        "outputId": "4f1a24ac-86c4-4280-b0e9-6e108cd4ef05"
      },
      "execution_count": 76,
      "outputs": [
        {
          "output_type": "stream",
          "name": "stdout",
          "text": [
            "[70, 30, 40, 10]\n"
          ]
        }
      ]
    },
    {
      "cell_type": "markdown",
      "source": [
        "Write a Python program to print the following pattern."
      ],
      "metadata": {
        "id": "K0jWUblq82U3"
      }
    },
    {
      "cell_type": "code",
      "source": [
        "n=4\n",
        "for i in range (0,n):\n",
        "    for j in range(0,i+1):\n",
        "          print('* ',end=\"\")\n",
        "    print('')\n",
        ""
      ],
      "metadata": {
        "colab": {
          "base_uri": "https://localhost:8080/"
        },
        "id": "hybXQ8KO7HgB",
        "outputId": "8e11c925-6f13-4699-ea75-0718250c2086"
      },
      "execution_count": 90,
      "outputs": [
        {
          "output_type": "stream",
          "name": "stdout",
          "text": [
            "* \n",
            "* * \n",
            "* * * \n",
            "* * * * \n"
          ]
        }
      ]
    },
    {
      "cell_type": "markdown",
      "source": [
        "Write a Python program to find the maximum of three numbers"
      ],
      "metadata": {
        "id": "kbvzGE8D-i1Q"
      }
    },
    {
      "cell_type": "code",
      "source": [
        "num1=float(input('enter the first number'))\n",
        "num2=float(input('enter the second number'))\n",
        "num3=float(input('enter the third number'))\n",
        "\n",
        "if (num1>num2 and num1>num3):\n",
        "  print(num1,\"is greater\")\n",
        "elif(num2>num1 and num2>num3):\n",
        "    print(num2,'is greater')\n",
        "else:\n",
        "  print(num3,'is greater')\n"
      ],
      "metadata": {
        "colab": {
          "base_uri": "https://localhost:8080/"
        },
        "id": "xUBcmWX99Bqo",
        "outputId": "63588fc9-1e9c-42c8-9d40-0650bc7dea1e"
      },
      "execution_count": 97,
      "outputs": [
        {
          "output_type": "stream",
          "name": "stdout",
          "text": [
            "enter the first number34\n",
            "enter the second number12\n",
            "enter the third number7\n",
            "34.0 is greater\n"
          ]
        }
      ]
    },
    {
      "cell_type": "markdown",
      "source": [
        "Write a Python program to construct the following pattern, using a\n",
        "nested for loop."
      ],
      "metadata": {
        "id": "9j8Mrq1mA5AK"
      }
    },
    {
      "cell_type": "code",
      "source": [
        "n=5\n",
        "for i in range (0,n):\n",
        "    for j in range(0,i+1):\n",
        "          print('* ',end=\"\")\n",
        "    print('')\n",
        "for i in range (n-2,0,-1):\n",
        "  for j in range(0,i+1):\n",
        "          print('* ',end=\"\")\n",
        "  print('')"
      ],
      "metadata": {
        "colab": {
          "base_uri": "https://localhost:8080/"
        },
        "id": "lgE1jOJM-_W9",
        "outputId": "912eb28f-dd62-483b-ce5a-61bdfbe80118"
      },
      "execution_count": 111,
      "outputs": [
        {
          "output_type": "stream",
          "name": "stdout",
          "text": [
            "* \n",
            "* * \n",
            "* * * \n",
            "* * * * \n",
            "* * * * * \n",
            "* * * * \n",
            "* * * \n",
            "* * \n"
          ]
        }
      ]
    },
    {
      "cell_type": "code",
      "source": [],
      "metadata": {
        "id": "agDjdMvABVHy"
      },
      "execution_count": null,
      "outputs": []
    }
  ]
}